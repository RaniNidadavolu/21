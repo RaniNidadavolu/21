{
  "nbformat": 4,
  "nbformat_minor": 0,
  "metadata": {
    "colab": {
      "provenance": [],
      "authorship_tag": "ABX9TyOnnMzS00+WyV2cTTmBAPWD",
      "include_colab_link": true
    },
    "kernelspec": {
      "name": "python3",
      "display_name": "Python 3"
    },
    "language_info": {
      "name": "python"
    }
  },
  "cells": [
    {
      "cell_type": "markdown",
      "metadata": {
        "id": "view-in-github",
        "colab_type": "text"
      },
      "source": [
        "<a href=\"https://colab.research.google.com/github/RaniNidadavolu/21/blob/main/dwdm10.ipynb\" target=\"_parent\"><img src=\"https://colab.research.google.com/assets/colab-badge.svg\" alt=\"Open In Colab\"/></a>"
      ]
    },
    {
      "cell_type": "code",
      "execution_count": 1,
      "metadata": {
        "colab": {
          "base_uri": "https://localhost:8080/"
        },
        "id": "TMDx2fy56pw8",
        "outputId": "666a2242-e42c-43da-b71a-3a926a58170a"
      },
      "outputs": [
        {
          "output_type": "stream",
          "name": "stdout",
          "text": [
            "4\n",
            "\n",
            "[ 0  1  0  0  2 -1  1  2  1 -1  0 -1  0  0  0 -1  2  1 -1 -1  2  0  0 -1\n",
            "  1 -1  0  0  0  1  1 -1  3  2 -1  2  1  2  0 -1 -1 -1 -1  1  0 -1  2  2\n",
            " -1  1  0  1 -1  0  1 -1  0  2  0  0  0  1 -1  1 -1  0 -1  3  1  3  1  0\n",
            "  2 -1  0  2  1  1  2  1  0  1  0  1  2  3 -1 -1  2  2  0  1  0  0 -1  0\n",
            "  1  0  2 -1  1  2  1  2  0  1  1  1 -1  2 -1  2  1  2  2  0  2  2  0  1\n",
            "  2  0  2  1  1  2  2  3  0  0  0 -1  2 -1  0  1 -1  2 -1  2 -1  0  2 -1\n",
            " -1  1 -1 -1  2  0 -1 -1 -1  2 -1  1  1 -1 -1  0 -1  1  0  1  0  2  0  1\n",
            "  0  0  2  0  1  2  0  2  1  2  0 -1 -1 -1 -1  0  0  2 -1  1  2  2  2 -1\n",
            "  2  3 -1  0 -1  2  2  1  1 -1  0 -1  1  2  2  1  0  1  1  2  0  1 -1  1\n",
            "  1 -1  2  0 -1  0 -1  0  2  2  0  0 -1  2 -1 -1  1  2 -1  0 -1  1 -1 -1\n",
            " -1  2  1  1  0  1 -1  1  1  1  2  0  2  0  2  0  1  2  2  1  0  0 -1 -1\n",
            "  0  1  0  0  0  0 -1  2  0 -1  1  1  1  2  2  1 -1  1  2 -1  0 -1  1 -1\n",
            " -1  2  1 -1 -1  1  0  2  1  1  2 -1]\n"
          ]
        }
      ],
      "source": [
        "import matplotlib.pyplot as plt\n",
        "import numpy as np\n",
        "from sklearn.cluster import DBSCAN\n",
        "from sklearn.datasets import make_blobs\n",
        "X, y_true = make_blobs(n_samples=300,cluster_std=0.50)\n",
        "db = DBSCAN(eps=0.3, min_samples=10)\n",
        "db=db.fit(X)\n",
        "core_samples_mask = np.zeros_like(db.labels_, dtype=bool)\n",
        "#print(core_samples_mask)\n",
        "#print()\n",
        "core_samples_mask[db.core_sample_indices_] = True\n",
        "#print(core_samples_mask)\n",
        "labels = db.labels_\n",
        "n_clusters_ = len(set(labels)) - (1 if -1 in labels else 0)\n",
        "print(n_clusters_)\n",
        "print()\n",
        "print(labels)"
      ]
    },
    {
      "cell_type": "code",
      "source": [
        "unique_labels = set(labels)\n",
        "colors = ['r', 'b', 'g', 'y']\n",
        "print(colors)\n",
        "for k, col in zip(unique_labels, colors):\n",
        "   if k == -1:\n",
        "     col = 'k'\n",
        "class_member_mask = (labels == k)\n",
        "xy = X[class_member_mask & core_samples_mask]\n",
        "plt.plot(xy[:, 0], xy[:, 1], 'o', markerfacecolor=col,\n",
        "markeredgecolor='k', markersize=6)\n",
        "xy = X[class_member_mask & ~core_samples_mask]\n",
        "plt.plot(xy[:, 0], xy[:, 1], 'o', markerfacecolor=col,\n",
        "markeredgecolor='k', markersize=6)\n",
        "plt.title('number of clusters: %d' % n_clusters_)\n",
        "plt.show()"
      ],
      "metadata": {
        "colab": {
          "base_uri": "https://localhost:8080/",
          "height": 469
        },
        "id": "UOFEr_gJ62RZ",
        "outputId": "b0b83d7e-ed68-4195-fb9c-947c20dea884"
      },
      "execution_count": 4,
      "outputs": [
        {
          "output_type": "stream",
          "name": "stdout",
          "text": [
            "['r', 'b', 'g', 'y']\n"
          ]
        },
        {
          "output_type": "display_data",
          "data": {
            "text/plain": [
              "<Figure size 640x480 with 1 Axes>"
            ],
            "image/png": "[encoded data removed]"
          },
          "metadata": {}
        }
      ]
    },
    {
      "cell_type": "code",
      "source": [],
      "metadata": {
        "id": "SWyiS8iQ7zu9"
      },
      "execution_count": null,
      "outputs": []
    }
  ]
}